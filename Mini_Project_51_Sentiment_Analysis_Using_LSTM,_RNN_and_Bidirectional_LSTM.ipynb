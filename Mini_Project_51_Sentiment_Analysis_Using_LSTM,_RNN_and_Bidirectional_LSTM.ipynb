{
  "metadata": {
    "kernelspec": {
      "language": "python",
      "display_name": "Python 3",
      "name": "python3"
    },
    "language_info": {
      "pygments_lexer": "ipython3",
      "nbconvert_exporter": "python",
      "version": "3.6.4",
      "file_extension": ".py",
      "codemirror_mode": {
        "name": "ipython",
        "version": 3
      },
      "name": "python",
      "mimetype": "text/x-python"
    },
    "colab": {
      "provenance": [],
      "include_colab_link": true
    }
  },
  "nbformat_minor": 0,
  "nbformat": 4,
  "cells": [
    {
      "cell_type": "markdown",
      "metadata": {
        "id": "view-in-github",
        "colab_type": "text"
      },
      "source": [
        "<a href=\"https://colab.research.google.com/github/daini10421/Mini-Project-51-Sentiment-Analysis-Using-LSTM-RNN-and-Bidirectional-LSTM/blob/main/Mini_Project_51_Sentiment_Analysis_Using_LSTM%2C_RNN_and_Bidirectional_LSTM.ipynb\" target=\"_parent\"><img src=\"https://colab.research.google.com/assets/colab-badge.svg\" alt=\"Open In Colab\"/></a>"
      ]
    },
    {
      "cell_type": "code",
      "source": [
        "# Utilities\n",
        "import re\n",
        "import pickle\n",
        "import numpy as np\n",
        "import pandas as pd\n",
        "\n",
        "# Plot libraries\n",
        "import seaborn as sns\n",
        "from wordcloud import WordCloud\n",
        "import matplotlib.pyplot as plt"
      ],
      "metadata": {
        "execution": {
          "iopub.status.busy": "2023-04-19T03:15:56.121991Z",
          "iopub.execute_input": "2023-04-19T03:15:56.122327Z",
          "iopub.status.idle": "2023-04-19T03:15:57.030857Z",
          "shell.execute_reply.started": "2023-04-19T03:15:56.122239Z",
          "shell.execute_reply": "2023-04-19T03:15:57.029888Z"
        },
        "trusted": true,
        "id": "jZGkIxQ4TNqY"
      },
      "execution_count": null,
      "outputs": []
    },
    {
      "cell_type": "code",
      "source": [
        "import tensorflow as tf\n",
        "physical_devices = tf.config.experimental.list_physical_devices('GPU')\n",
        "tf.config.experimental.set_memory_growth(physical_devices[0], True)"
      ],
      "metadata": {
        "execution": {
          "iopub.status.busy": "2023-04-19T03:15:57.033125Z",
          "iopub.execute_input": "2023-04-19T03:15:57.033526Z",
          "iopub.status.idle": "2023-04-19T03:16:01.937511Z",
          "shell.execute_reply.started": "2023-04-19T03:15:57.03349Z",
          "shell.execute_reply": "2023-04-19T03:16:01.936522Z"
        },
        "trusted": true,
        "id": "sNmvtzlbTNqc"
      },
      "execution_count": null,
      "outputs": []
    },
    {
      "cell_type": "code",
      "source": [
        "dataset = pd.read_csv(\"../input/imdb-movie-ratings-sentiment-analysis/movie.csv\")"
      ],
      "metadata": {
        "execution": {
          "iopub.status.busy": "2023-04-19T03:16:01.939913Z",
          "iopub.execute_input": "2023-04-19T03:16:01.940953Z",
          "iopub.status.idle": "2023-04-19T03:16:03.070096Z",
          "shell.execute_reply.started": "2023-04-19T03:16:01.940915Z",
          "shell.execute_reply": "2023-04-19T03:16:03.069117Z"
        },
        "trusted": true,
        "id": "X8eqQ-CwTNqc"
      },
      "execution_count": null,
      "outputs": []
    },
    {
      "cell_type": "code",
      "source": [
        "dataset.head()"
      ],
      "metadata": {
        "execution": {
          "iopub.status.busy": "2023-04-19T03:16:03.07255Z",
          "iopub.execute_input": "2023-04-19T03:16:03.073209Z",
          "iopub.status.idle": "2023-04-19T03:16:03.092366Z",
          "shell.execute_reply.started": "2023-04-19T03:16:03.073172Z",
          "shell.execute_reply": "2023-04-19T03:16:03.091411Z"
        },
        "trusted": true,
        "id": "CTrscsRITNqc"
      },
      "execution_count": null,
      "outputs": []
    },
    {
      "cell_type": "code",
      "source": [
        "ax = dataset.groupby('label').count().plot(kind='bar', title='Distribution of data',\n",
        "                                               legend=False)\n",
        "ax = ax.set_xticklabels(['Negative','Positive'], rotation=0)"
      ],
      "metadata": {
        "execution": {
          "iopub.status.busy": "2023-04-19T03:16:03.093788Z",
          "iopub.execute_input": "2023-04-19T03:16:03.094149Z",
          "iopub.status.idle": "2023-04-19T03:16:03.476608Z",
          "shell.execute_reply.started": "2023-04-19T03:16:03.094116Z",
          "shell.execute_reply": "2023-04-19T03:16:03.475652Z"
        },
        "trusted": true,
        "id": "muwmubb6TNqc"
      },
      "execution_count": null,
      "outputs": []
    },
    {
      "cell_type": "code",
      "source": [
        "contractions = pd.read_csv('../input/contractions/contractions.csv', index_col='Contraction')\n",
        "contractions.index = contractions.index.str.lower()\n",
        "contractions.Meaning = contractions.Meaning.str.lower()\n",
        "contractions_dict = contractions.to_dict()['Meaning']\n",
        "\n",
        "# Defining regex patterns.\n",
        "linebreaks        = \"<br /><br />\"\n",
        "alphaPattern      = \"[^a-z0-9<>]\"\n",
        "sequencePattern   = r\"(.)\\1\\1+\"\n",
        "seqReplacePattern = r\"\\1\\1\"\n",
        "\n",
        "# Defining regex for emojis\n",
        "smileemoji        = r\"[8:=;]['`\\-]?[)d]+\"\n",
        "sademoji          = r\"[8:=;]['`\\-]?\\(+\"\n",
        "neutralemoji      = r\"[8:=;]['`\\-]?[\\/|l*]\"\n",
        "lolemoji          = r\"[8:=;]['`\\-]?p+\"\n",
        "\n",
        "def preprocess_reviews(review):\n",
        "\n",
        "    review = review.lower()\n",
        "\n",
        "    review = re.sub(linebreaks,\" \",review)\n",
        "    # Replace 3 or more consecutive letters by 2 letter.\n",
        "    review = re.sub(sequencePattern, seqReplacePattern, review)\n",
        "\n",
        "    # Replace all emojis.\n",
        "    review = re.sub(r'<3', '<heart>', review)\n",
        "    review = re.sub(smileemoji, '<smile>', review)\n",
        "    review = re.sub(sademoji, '<sadface>', review)\n",
        "    review = re.sub(neutralemoji, '<neutralface>', review)\n",
        "    review = re.sub(lolemoji, '<lolface>', review)\n",
        "\n",
        "    for contraction, replacement in contractions_dict.items():\n",
        "        review = review.replace(contraction, replacement)\n",
        "\n",
        "    # Remove non-alphanumeric and symbols\n",
        "    review = re.sub(alphaPattern, ' ', review)\n",
        "\n",
        "    # Adding space on either side of '/' to seperate words (After replacing URLS).\n",
        "    review = re.sub(r'/', ' / ', review)\n",
        "    return review"
      ],
      "metadata": {
        "execution": {
          "iopub.status.busy": "2023-04-19T03:16:03.47879Z",
          "iopub.execute_input": "2023-04-19T03:16:03.47982Z",
          "iopub.status.idle": "2023-04-19T03:16:03.49691Z",
          "shell.execute_reply.started": "2023-04-19T03:16:03.479779Z",
          "shell.execute_reply": "2023-04-19T03:16:03.495938Z"
        },
        "trusted": true,
        "id": "d-uOm8MjTNqd"
      },
      "execution_count": null,
      "outputs": []
    },
    {
      "cell_type": "code",
      "source": [
        "%%time\n",
        "dataset['cleaned_review'] = dataset.text.apply(preprocess_reviews)"
      ],
      "metadata": {
        "execution": {
          "iopub.status.busy": "2023-04-19T03:16:03.498483Z",
          "iopub.execute_input": "2023-04-19T03:16:03.499217Z",
          "iopub.status.idle": "2023-04-19T03:16:15.548906Z",
          "shell.execute_reply.started": "2023-04-19T03:16:03.499183Z",
          "shell.execute_reply": "2023-04-19T03:16:15.547811Z"
        },
        "trusted": true,
        "id": "P2U4HQ-aTNqd"
      },
      "execution_count": null,
      "outputs": []
    },
    {
      "cell_type": "code",
      "source": [
        "import nltk\n",
        "from nltk.corpus import stopwords\n",
        "from nltk.tokenize import word_tokenize\n",
        "from nltk.stem import WordNetLemmatizer\n",
        "from nltk.tokenize import word_tokenize\n",
        "\n",
        "stop_words = set(stopwords.words('english'))\n",
        "nltk.download('omw-1.4')\n",
        "lemmatizer = WordNetLemmatizer()"
      ],
      "metadata": {
        "execution": {
          "iopub.status.busy": "2023-04-19T03:16:15.550537Z",
          "iopub.execute_input": "2023-04-19T03:16:15.550943Z",
          "iopub.status.idle": "2023-04-19T03:16:16.41321Z",
          "shell.execute_reply.started": "2023-04-19T03:16:15.550906Z",
          "shell.execute_reply": "2023-04-19T03:16:16.412269Z"
        },
        "trusted": true,
        "id": "SG-ExGLqTNqd"
      },
      "execution_count": null,
      "outputs": []
    },
    {
      "cell_type": "code",
      "source": [
        "dataset[\"cleaned_review\"][0]"
      ],
      "metadata": {
        "execution": {
          "iopub.status.busy": "2023-04-19T03:16:16.414703Z",
          "iopub.execute_input": "2023-04-19T03:16:16.415114Z",
          "iopub.status.idle": "2023-04-19T03:16:16.424224Z",
          "shell.execute_reply.started": "2023-04-19T03:16:16.415078Z",
          "shell.execute_reply": "2023-04-19T03:16:16.422095Z"
        },
        "trusted": true,
        "id": "enJ8JRXyTNqe"
      },
      "execution_count": null,
      "outputs": []
    },
    {
      "cell_type": "code",
      "source": [
        "# j = 0\n",
        "for i in range(len(dataset)):\n",
        "    lis = []\n",
        "    for words in dataset[\"cleaned_review\"][i].split():\n",
        "        if words not in stop_words:\n",
        "            words = lemmatizer.lemmatize(words)\n",
        "            lis.append(words)\n",
        "    dataset[\"cleaned_review\"][i] = \" \".join(lis)\n",
        "\n",
        "#     j += 1\n",
        "#     if j > 0:\n",
        "#         break"
      ],
      "metadata": {
        "execution": {
          "iopub.status.busy": "2023-04-19T03:16:16.429482Z",
          "iopub.execute_input": "2023-04-19T03:16:16.429782Z",
          "iopub.status.idle": "2023-04-19T03:17:05.028258Z",
          "shell.execute_reply.started": "2023-04-19T03:16:16.42975Z",
          "shell.execute_reply": "2023-04-19T03:17:05.027298Z"
        },
        "trusted": true,
        "id": "Odml2aMPTNqe"
      },
      "execution_count": null,
      "outputs": []
    },
    {
      "cell_type": "code",
      "source": [
        "print(dataset[\"cleaned_review\"][69])"
      ],
      "metadata": {
        "execution": {
          "iopub.status.busy": "2023-04-19T03:17:05.029548Z",
          "iopub.execute_input": "2023-04-19T03:17:05.02993Z",
          "iopub.status.idle": "2023-04-19T03:17:05.037755Z",
          "shell.execute_reply.started": "2023-04-19T03:17:05.029893Z",
          "shell.execute_reply": "2023-04-19T03:17:05.036776Z"
        },
        "trusted": true,
        "id": "hwCAHKJPTNqe"
      },
      "execution_count": null,
      "outputs": []
    },
    {
      "cell_type": "code",
      "source": [
        "data_pos = dataset[dataset[\"label\"]==1][\"cleaned_review\"]\n",
        "data_neg = dataset[dataset[\"label\"]==0][\"cleaned_review\"]"
      ],
      "metadata": {
        "execution": {
          "iopub.status.busy": "2023-04-19T03:17:05.039359Z",
          "iopub.execute_input": "2023-04-19T03:17:05.040218Z",
          "iopub.status.idle": "2023-04-19T03:17:05.056264Z",
          "shell.execute_reply.started": "2023-04-19T03:17:05.040069Z",
          "shell.execute_reply": "2023-04-19T03:17:05.055365Z"
        },
        "trusted": true,
        "id": "NqeK2nSsTNqf"
      },
      "execution_count": null,
      "outputs": []
    },
    {
      "cell_type": "code",
      "source": [
        "wc = WordCloud(max_words = 1000 , width = 1600 , height = 800,\n",
        "              collocations=False).generate(\" \".join(data_pos))\n",
        "plt.figure(figsize = (20,20))\n",
        "plt.imshow(wc)"
      ],
      "metadata": {
        "execution": {
          "iopub.status.busy": "2023-04-19T03:17:05.059128Z",
          "iopub.execute_input": "2023-04-19T03:17:05.059394Z",
          "iopub.status.idle": "2023-04-19T03:17:16.049777Z",
          "shell.execute_reply.started": "2023-04-19T03:17:05.059371Z",
          "shell.execute_reply": "2023-04-19T03:17:16.048945Z"
        },
        "trusted": true,
        "id": "s8uWVs9XTNqf"
      },
      "execution_count": null,
      "outputs": []
    },
    {
      "cell_type": "code",
      "source": [
        "wc = WordCloud(max_words = 1000 , width = 1600 , height = 800,\n",
        "               collocations=False).generate(\" \".join(data_neg))\n",
        "plt.figure(figsize = (20,20))\n",
        "plt.imshow(wc)"
      ],
      "metadata": {
        "execution": {
          "iopub.status.busy": "2023-04-19T03:17:16.050725Z",
          "iopub.execute_input": "2023-04-19T03:17:16.051509Z",
          "iopub.status.idle": "2023-04-19T03:17:27.82368Z",
          "shell.execute_reply.started": "2023-04-19T03:17:16.051473Z",
          "shell.execute_reply": "2023-04-19T03:17:27.822789Z"
        },
        "trusted": true,
        "id": "6lFLE3SzTNqf"
      },
      "execution_count": null,
      "outputs": []
    },
    {
      "cell_type": "code",
      "source": [
        "from sklearn.model_selection import train_test_split\n"
      ],
      "metadata": {
        "execution": {
          "iopub.status.busy": "2023-04-19T03:17:27.824726Z",
          "iopub.execute_input": "2023-04-19T03:17:27.825082Z",
          "iopub.status.idle": "2023-04-19T03:17:27.830409Z",
          "shell.execute_reply.started": "2023-04-19T03:17:27.825048Z",
          "shell.execute_reply": "2023-04-19T03:17:27.82958Z"
        },
        "trusted": true,
        "id": "BXTXFbK1TNqf"
      },
      "execution_count": null,
      "outputs": []
    },
    {
      "cell_type": "code",
      "source": [
        "X_data, y_data = np.array(dataset['cleaned_review']), np.array(dataset['label'])\n",
        "\n",
        "X_train, X_test, y_train, y_test = train_test_split(X_data, y_data,\n",
        "                                                    test_size = 0.05, random_state = 0)\n",
        "print('Data Split done.')\n"
      ],
      "metadata": {
        "execution": {
          "iopub.status.busy": "2023-04-19T03:17:27.832083Z",
          "iopub.execute_input": "2023-04-19T03:17:27.832761Z",
          "iopub.status.idle": "2023-04-19T03:17:27.860446Z",
          "shell.execute_reply.started": "2023-04-19T03:17:27.832711Z",
          "shell.execute_reply": "2023-04-19T03:17:27.859597Z"
        },
        "trusted": true,
        "id": "X-WJgsavTNqg"
      },
      "execution_count": null,
      "outputs": []
    },
    {
      "cell_type": "code",
      "source": [
        "from gensim.models import Word2Vec\n",
        "\n",
        "Embedding_dimensions = 100\n",
        "\n",
        "# Creating Word2Vec training dataset.\n",
        "Word2vec_train_data = list(map(lambda x: x.split(), X_train))"
      ],
      "metadata": {
        "execution": {
          "iopub.status.busy": "2023-04-19T03:17:27.861307Z",
          "iopub.execute_input": "2023-04-19T03:17:27.861591Z",
          "iopub.status.idle": "2023-04-19T03:17:28.433669Z",
          "shell.execute_reply.started": "2023-04-19T03:17:27.861564Z",
          "shell.execute_reply": "2023-04-19T03:17:28.432666Z"
        },
        "trusted": true,
        "id": "0giIbna7TNqg"
      },
      "execution_count": null,
      "outputs": []
    },
    {
      "cell_type": "code",
      "source": [
        "# Defining the model and training it.\n",
        "word2vec_model = Word2Vec(Word2vec_train_data,\n",
        "                 vector_size=Embedding_dimensions,\n",
        "                 workers=8,\n",
        "                 min_count=5)\n",
        "\n",
        "print(\"Vocabulary Length:\", len(word2vec_model.wv.key_to_index))"
      ],
      "metadata": {
        "execution": {
          "iopub.status.busy": "2023-04-19T03:17:28.435037Z",
          "iopub.execute_input": "2023-04-19T03:17:28.435417Z",
          "iopub.status.idle": "2023-04-19T03:18:02.659489Z",
          "shell.execute_reply.started": "2023-04-19T03:17:28.435383Z",
          "shell.execute_reply": "2023-04-19T03:18:02.6585Z"
        },
        "trusted": true,
        "id": "ZUF_QcM1TNqg"
      },
      "execution_count": null,
      "outputs": []
    },
    {
      "cell_type": "code",
      "source": [
        "input_length = 750\n",
        "\n",
        "from tensorflow.keras.preprocessing.text import Tokenizer\n",
        "from tensorflow.keras.preprocessing.sequence import pad_sequences"
      ],
      "metadata": {
        "execution": {
          "iopub.status.busy": "2023-04-19T03:18:02.661596Z",
          "iopub.execute_input": "2023-04-19T03:18:02.663179Z",
          "iopub.status.idle": "2023-04-19T03:18:03.753356Z",
          "shell.execute_reply.started": "2023-04-19T03:18:02.663138Z",
          "shell.execute_reply": "2023-04-19T03:18:03.752368Z"
        },
        "trusted": true,
        "id": "UEjxyBgFTNqg"
      },
      "execution_count": null,
      "outputs": []
    },
    {
      "cell_type": "code",
      "source": [
        "vocab_length = 35000\n",
        "\n",
        "tokenizer = Tokenizer(filters=\"\", lower=False, oov_token=\"<oov>\")\n",
        "tokenizer.fit_on_texts(X_data)\n",
        "tokenizer.num_words = vocab_length\n",
        "print(\"Tokenizer vocab length:\", vocab_length)"
      ],
      "metadata": {
        "execution": {
          "iopub.status.busy": "2023-04-19T03:18:03.754827Z",
          "iopub.execute_input": "2023-04-19T03:18:03.755163Z",
          "iopub.status.idle": "2023-04-19T03:18:07.121411Z",
          "shell.execute_reply.started": "2023-04-19T03:18:03.75513Z",
          "shell.execute_reply": "2023-04-19T03:18:07.120088Z"
        },
        "trusted": true,
        "id": "UCU3i4SNTNqg"
      },
      "execution_count": null,
      "outputs": []
    },
    {
      "cell_type": "code",
      "source": [
        "X_train = pad_sequences(tokenizer.texts_to_sequences(X_train), maxlen=input_length)\n",
        "X_test  = pad_sequences(tokenizer.texts_to_sequences(X_test) , maxlen=input_length)\n",
        "\n",
        "print(\"X_train.shape:\", X_train.shape)\n",
        "print(\"X_test.shape :\", X_test.shape)"
      ],
      "metadata": {
        "execution": {
          "iopub.status.busy": "2023-04-19T03:18:07.123352Z",
          "iopub.execute_input": "2023-04-19T03:18:07.123819Z",
          "iopub.status.idle": "2023-04-19T03:18:09.765701Z",
          "shell.execute_reply.started": "2023-04-19T03:18:07.123775Z",
          "shell.execute_reply": "2023-04-19T03:18:09.764591Z"
        },
        "trusted": true,
        "id": "LXRUBFPsTNqg"
      },
      "execution_count": null,
      "outputs": []
    },
    {
      "cell_type": "code",
      "source": [
        "embedding_matrix = np.zeros((vocab_length, Embedding_dimensions))\n",
        "\n",
        "for word, token in tokenizer.word_index.items():\n",
        "    if word2vec_model.wv.__contains__(word):\n",
        "        embedding_matrix[token] = word2vec_model.wv.__getitem__(word)\n",
        "\n",
        "print(\"Embedding Matrix Shape:\", embedding_matrix.shape)"
      ],
      "metadata": {
        "execution": {
          "iopub.status.busy": "2023-04-19T03:18:09.767104Z",
          "iopub.execute_input": "2023-04-19T03:18:09.76773Z",
          "iopub.status.idle": "2023-04-19T03:18:09.953325Z",
          "shell.execute_reply.started": "2023-04-19T03:18:09.767692Z",
          "shell.execute_reply": "2023-04-19T03:18:09.952195Z"
        },
        "trusted": true,
        "id": "6po3vaVzTNqh"
      },
      "execution_count": null,
      "outputs": []
    },
    {
      "cell_type": "code",
      "source": [
        "from keras.models import Sequential\n",
        "from keras.layers.embeddings import Embedding\n",
        "from keras.layers import SimpleRNN,Dense,Activation,Bidirectional,GlobalMaxPool1D\n",
        "from keras.utils.vis_utils import plot_model"
      ],
      "metadata": {
        "execution": {
          "iopub.status.busy": "2023-04-19T03:18:09.955571Z",
          "iopub.execute_input": "2023-04-19T03:18:09.956638Z",
          "iopub.status.idle": "2023-04-19T03:18:09.961999Z",
          "shell.execute_reply.started": "2023-04-19T03:18:09.956598Z",
          "shell.execute_reply": "2023-04-19T03:18:09.960977Z"
        },
        "trusted": true,
        "id": "a_lOgbu3TNqh"
      },
      "execution_count": null,
      "outputs": []
    },
    {
      "cell_type": "code",
      "source": [
        "def getModel():\n",
        "    embedding_layer = Embedding(input_dim = vocab_length,\n",
        "                                output_dim = Embedding_dimensions,\n",
        "                                weights=[embedding_matrix],\n",
        "                                input_length=input_length,\n",
        "                                trainable=False)\n",
        "\n",
        "    model = Sequential([\n",
        "        embedding_layer,\n",
        "        SimpleRNN(100,input_shape = (vocab_length,input_length),return_sequences=False,activation=\"LeakyReLU\"),\n",
        "        Dense(32,activation=\"relu\"),\n",
        "        Dense(1,activation=\"sigmoid\"),\n",
        "    ],\n",
        "     name=\"Sentiment_Model\")\n",
        "    return model"
      ],
      "metadata": {
        "execution": {
          "iopub.status.busy": "2023-04-19T03:18:09.963277Z",
          "iopub.execute_input": "2023-04-19T03:18:09.96379Z",
          "iopub.status.idle": "2023-04-19T03:18:09.975863Z",
          "shell.execute_reply.started": "2023-04-19T03:18:09.963755Z",
          "shell.execute_reply": "2023-04-19T03:18:09.974808Z"
        },
        "trusted": true,
        "id": "E0jRGqHiTNqh"
      },
      "execution_count": null,
      "outputs": []
    },
    {
      "cell_type": "code",
      "source": [
        "training_model = getModel()\n",
        "training_model.summary()"
      ],
      "metadata": {
        "execution": {
          "iopub.status.busy": "2023-04-19T03:18:09.977267Z",
          "iopub.execute_input": "2023-04-19T03:18:09.97762Z",
          "iopub.status.idle": "2023-04-19T03:18:12.290532Z",
          "shell.execute_reply.started": "2023-04-19T03:18:09.977586Z",
          "shell.execute_reply": "2023-04-19T03:18:12.289487Z"
        },
        "trusted": true,
        "id": "w3GeNzOBTNqh"
      },
      "execution_count": null,
      "outputs": []
    },
    {
      "cell_type": "code",
      "source": [
        "plot_model(training_model, \"RNN.png\", show_shapes=True)"
      ],
      "metadata": {
        "execution": {
          "iopub.status.busy": "2023-04-19T03:18:12.292004Z",
          "iopub.execute_input": "2023-04-19T03:18:12.292347Z",
          "iopub.status.idle": "2023-04-19T03:18:13.216892Z",
          "shell.execute_reply.started": "2023-04-19T03:18:12.292312Z",
          "shell.execute_reply": "2023-04-19T03:18:13.215762Z"
        },
        "trusted": true,
        "id": "yDdgoh7DTNqh"
      },
      "execution_count": null,
      "outputs": []
    },
    {
      "cell_type": "code",
      "source": [
        "from tensorflow.keras.callbacks import ReduceLROnPlateau, EarlyStopping\n",
        "\n",
        "callbacks = [ReduceLROnPlateau(monitor='val_loss', patience=5, cooldown=0),\n",
        "             EarlyStopping(monitor='val_accuracy', min_delta=1e-4, patience=5)]"
      ],
      "metadata": {
        "execution": {
          "iopub.status.busy": "2023-04-19T03:18:13.218795Z",
          "iopub.execute_input": "2023-04-19T03:18:13.219103Z",
          "iopub.status.idle": "2023-04-19T03:18:13.227707Z",
          "shell.execute_reply.started": "2023-04-19T03:18:13.219075Z",
          "shell.execute_reply": "2023-04-19T03:18:13.226655Z"
        },
        "trusted": true,
        "id": "9bwP_CFZTNqi"
      },
      "execution_count": null,
      "outputs": []
    },
    {
      "cell_type": "code",
      "source": [
        "training_model.compile(loss='binary_crossentropy', optimizer='adam', metrics=['accuracy'])"
      ],
      "metadata": {
        "execution": {
          "iopub.status.busy": "2023-04-19T03:18:13.235291Z",
          "iopub.execute_input": "2023-04-19T03:18:13.236057Z",
          "iopub.status.idle": "2023-04-19T03:18:13.251889Z",
          "shell.execute_reply.started": "2023-04-19T03:18:13.236021Z",
          "shell.execute_reply": "2023-04-19T03:18:13.251043Z"
        },
        "trusted": true,
        "id": "ixgOHnL1TNqi"
      },
      "execution_count": null,
      "outputs": []
    },
    {
      "cell_type": "code",
      "source": [
        "history = training_model.fit(\n",
        "    X_train, y_train,\n",
        "    batch_size=1024,\n",
        "    epochs=20,\n",
        "    validation_split=0.1,\n",
        "    callbacks=callbacks,\n",
        "    verbose=1,\n",
        ")"
      ],
      "metadata": {
        "execution": {
          "iopub.status.busy": "2023-04-19T03:18:13.25353Z",
          "iopub.execute_input": "2023-04-19T03:18:13.254433Z",
          "iopub.status.idle": "2023-04-19T03:24:49.272583Z",
          "shell.execute_reply.started": "2023-04-19T03:18:13.2544Z",
          "shell.execute_reply": "2023-04-19T03:24:49.271504Z"
        },
        "trusted": true,
        "id": "ANKCLsQcTNqi"
      },
      "execution_count": null,
      "outputs": []
    },
    {
      "cell_type": "markdown",
      "source": [
        "### LSTM\n"
      ],
      "metadata": {
        "id": "UiL4NBEETNqi"
      }
    },
    {
      "cell_type": "code",
      "source": [
        "from tensorflow.keras.layers import LSTM, Dropout"
      ],
      "metadata": {
        "execution": {
          "iopub.status.busy": "2023-04-19T03:24:49.274293Z",
          "iopub.execute_input": "2023-04-19T03:24:49.274654Z",
          "iopub.status.idle": "2023-04-19T03:24:49.282299Z",
          "shell.execute_reply.started": "2023-04-19T03:24:49.274619Z",
          "shell.execute_reply": "2023-04-19T03:24:49.28128Z"
        },
        "trusted": true,
        "id": "6rrCm9z2TNqj"
      },
      "execution_count": null,
      "outputs": []
    },
    {
      "cell_type": "code",
      "source": [
        "def getModel2():\n",
        "    embedding_layer = Embedding(input_dim = vocab_length,\n",
        "                                output_dim = Embedding_dimensions,\n",
        "                                weights=[embedding_matrix],\n",
        "                                input_length=input_length,\n",
        "                                trainable=False)\n",
        "\n",
        "    model = Sequential([\n",
        "        embedding_layer,\n",
        "        LSTM(64,return_sequences=True),\n",
        "        Dropout(0.2),\n",
        "        LSTM(32),\n",
        "        Dropout(0.2),\n",
        "        Dense(1,activation=\"sigmoid\")\n",
        "    ],\n",
        "    name=\"Sentiment_Model_LSTM\")\n",
        "    return model"
      ],
      "metadata": {
        "execution": {
          "iopub.status.busy": "2023-04-19T03:24:49.284026Z",
          "iopub.execute_input": "2023-04-19T03:24:49.284456Z",
          "iopub.status.idle": "2023-04-19T03:24:49.295769Z",
          "shell.execute_reply.started": "2023-04-19T03:24:49.284422Z",
          "shell.execute_reply": "2023-04-19T03:24:49.294829Z"
        },
        "trusted": true,
        "id": "ghOiYhwGTNqk"
      },
      "execution_count": null,
      "outputs": []
    },
    {
      "cell_type": "code",
      "source": [
        "training_model2 = getModel2()\n",
        "training_model2.summary()"
      ],
      "metadata": {
        "execution": {
          "iopub.status.busy": "2023-04-19T03:24:49.296997Z",
          "iopub.execute_input": "2023-04-19T03:24:49.297249Z",
          "iopub.status.idle": "2023-04-19T03:24:49.908464Z",
          "shell.execute_reply.started": "2023-04-19T03:24:49.297227Z",
          "shell.execute_reply": "2023-04-19T03:24:49.907515Z"
        },
        "trusted": true,
        "id": "Y31iFg_LTNqk"
      },
      "execution_count": null,
      "outputs": []
    },
    {
      "cell_type": "code",
      "source": [
        "plot_model(training_model2, \"LSTM.png\", show_shapes=True)"
      ],
      "metadata": {
        "execution": {
          "iopub.status.busy": "2023-04-19T03:24:49.912481Z",
          "iopub.execute_input": "2023-04-19T03:24:49.915042Z",
          "iopub.status.idle": "2023-04-19T03:24:50.158293Z",
          "shell.execute_reply.started": "2023-04-19T03:24:49.915004Z",
          "shell.execute_reply": "2023-04-19T03:24:50.157147Z"
        },
        "trusted": true,
        "id": "xfL5_-52TNqk"
      },
      "execution_count": null,
      "outputs": []
    },
    {
      "cell_type": "code",
      "source": [
        "training_model2.compile(loss='binary_crossentropy', optimizer='adam', metrics=['accuracy'])"
      ],
      "metadata": {
        "execution": {
          "iopub.status.busy": "2023-04-19T03:24:50.162628Z",
          "iopub.execute_input": "2023-04-19T03:24:50.163413Z",
          "iopub.status.idle": "2023-04-19T03:24:50.181148Z",
          "shell.execute_reply.started": "2023-04-19T03:24:50.163373Z",
          "shell.execute_reply": "2023-04-19T03:24:50.18009Z"
        },
        "trusted": true,
        "id": "TaM8qfHTTNqk"
      },
      "execution_count": null,
      "outputs": []
    },
    {
      "cell_type": "code",
      "source": [
        "history2 = training_model2.fit(\n",
        "    X_train, y_train,\n",
        "    batch_size=1024,\n",
        "    epochs=20,\n",
        "    validation_split=0.1,\n",
        "    callbacks=callbacks,\n",
        "    verbose=1,\n",
        ")"
      ],
      "metadata": {
        "execution": {
          "iopub.status.busy": "2023-04-19T03:24:50.185384Z",
          "iopub.execute_input": "2023-04-19T03:24:50.187789Z",
          "iopub.status.idle": "2023-04-19T03:26:59.169421Z",
          "shell.execute_reply.started": "2023-04-19T03:24:50.187752Z",
          "shell.execute_reply": "2023-04-19T03:26:59.168441Z"
        },
        "trusted": true,
        "id": "og_W1e8aTNql"
      },
      "execution_count": null,
      "outputs": []
    },
    {
      "cell_type": "markdown",
      "source": [
        "### Bidirectional LSTM"
      ],
      "metadata": {
        "id": "KIaQL_qxTNql"
      }
    },
    {
      "cell_type": "code",
      "source": [
        "def getModel3():\n",
        "    embedding_layer = Embedding(input_dim = vocab_length,\n",
        "                                output_dim = Embedding_dimensions,\n",
        "                                weights=[embedding_matrix],\n",
        "                                input_length=input_length,\n",
        "                                trainable=False)\n",
        "\n",
        "    model = Sequential([\n",
        "        embedding_layer,\n",
        "        Bidirectional(LSTM(35,return_sequences=True)),\n",
        "        GlobalMaxPool1D(),\n",
        "        Dense(40, activation=\"relu\"),\n",
        "        Dropout(0.5),\n",
        "        Dense(20, activation=\"relu\"),\n",
        "        Dropout(0.5),\n",
        "        Dense(1, activation=\"sigmoid\"),\n",
        "    ],\n",
        "    name=\"Sentiment_Model_LSTM_Bidirectional\")\n",
        "    return model"
      ],
      "metadata": {
        "execution": {
          "iopub.status.busy": "2023-04-19T03:26:59.171127Z",
          "iopub.execute_input": "2023-04-19T03:26:59.171507Z",
          "iopub.status.idle": "2023-04-19T03:26:59.180404Z",
          "shell.execute_reply.started": "2023-04-19T03:26:59.171467Z",
          "shell.execute_reply": "2023-04-19T03:26:59.179402Z"
        },
        "trusted": true,
        "id": "D3z26QkKTNql"
      },
      "execution_count": null,
      "outputs": []
    },
    {
      "cell_type": "code",
      "source": [
        "training_model3 = getModel3()\n",
        "training_model3.summary()"
      ],
      "metadata": {
        "execution": {
          "iopub.status.busy": "2023-04-19T03:26:59.182066Z",
          "iopub.execute_input": "2023-04-19T03:26:59.182437Z",
          "iopub.status.idle": "2023-04-19T03:26:59.633121Z",
          "shell.execute_reply.started": "2023-04-19T03:26:59.182381Z",
          "shell.execute_reply": "2023-04-19T03:26:59.632089Z"
        },
        "trusted": true,
        "id": "sa_0JSG1TNql"
      },
      "execution_count": null,
      "outputs": []
    },
    {
      "cell_type": "code",
      "source": [
        "plot_model(training_model3, \"LSTM_bidirectional.png\", show_shapes=True)"
      ],
      "metadata": {
        "execution": {
          "iopub.status.busy": "2023-04-19T03:26:59.634658Z",
          "iopub.execute_input": "2023-04-19T03:26:59.635238Z",
          "iopub.status.idle": "2023-04-19T03:26:59.843009Z",
          "shell.execute_reply.started": "2023-04-19T03:26:59.635201Z",
          "shell.execute_reply": "2023-04-19T03:26:59.841831Z"
        },
        "trusted": true,
        "id": "Awcgiw1GTNq0"
      },
      "execution_count": null,
      "outputs": []
    },
    {
      "cell_type": "code",
      "source": [
        "training_model3.compile(loss='binary_crossentropy', optimizer='adam', metrics=['accuracy'])"
      ],
      "metadata": {
        "execution": {
          "iopub.status.busy": "2023-04-19T03:26:59.844964Z",
          "iopub.execute_input": "2023-04-19T03:26:59.84565Z",
          "iopub.status.idle": "2023-04-19T03:26:59.858427Z",
          "shell.execute_reply.started": "2023-04-19T03:26:59.845607Z",
          "shell.execute_reply": "2023-04-19T03:26:59.857451Z"
        },
        "trusted": true,
        "id": "86tlmksrTNq0"
      },
      "execution_count": null,
      "outputs": []
    },
    {
      "cell_type": "code",
      "source": [
        "history3 = training_model3.fit(\n",
        "    X_train, y_train,\n",
        "    batch_size=1024,\n",
        "    epochs=20,\n",
        "    validation_split=0.1,\n",
        "    callbacks=callbacks,\n",
        "    verbose=1,\n",
        ")"
      ],
      "metadata": {
        "execution": {
          "iopub.status.busy": "2023-04-19T03:26:59.860107Z",
          "iopub.execute_input": "2023-04-19T03:26:59.860514Z",
          "iopub.status.idle": "2023-04-19T03:29:16.012826Z",
          "shell.execute_reply.started": "2023-04-19T03:26:59.860479Z",
          "shell.execute_reply": "2023-04-19T03:29:16.011893Z"
        },
        "trusted": true,
        "id": "cmK7AFRQTNq0"
      },
      "execution_count": null,
      "outputs": []
    },
    {
      "cell_type": "code",
      "source": [
        "\n",
        "figure , axis = plt.subplots(2,3,figsize=(15,8))\n",
        "# figure.add_gridspec(2, 2, hspace=10, wspace=10)\n",
        "# plt.figure(figsize=(8, 6))\n",
        "acc2,  val_acc2  = history2.history['accuracy'], history2.history['val_accuracy']\n",
        "loss2, val_loss2 = history2.history['loss'], history2.history['val_loss']\n",
        "epochs2 = range(len(acc2))\n",
        "axis[0,0].plot(epochs2, acc2, 'b', label='Training acc')\n",
        "axis[0,0].plot(epochs2, val_acc2, 'r', label='Validation acc')\n",
        "axis[0,0].set_title('Training and validation accuracy - LSTM')\n",
        "axis[0,0].legend()\n",
        "\n",
        "# plt.figure()\n",
        "\n",
        "axis[1,0].plot(epochs2, loss2, 'b', label='Training loss')\n",
        "axis[1,0].plot(epochs2, val_loss2, 'r', label='Validation loss')\n",
        "axis[1,0].set_title('Training and validation loss - LSTM')\n",
        "axis[1,0].legend()\n",
        "\n",
        "# plt.show()\n",
        "\n",
        "acc,  val_acc  = history.history['accuracy'], history.history['val_accuracy']\n",
        "loss, val_loss = history.history['loss'], history.history['val_loss']\n",
        "epochs = range(len(acc))\n",
        "\n",
        "axis[0,1].plot(epochs, acc, 'b', label='Training acc')\n",
        "axis[0,1].plot(epochs, val_acc, 'r', label='Validation acc')\n",
        "axis[0,1].set_title('Training and validation accuracy - RNN')\n",
        "axis[0,1].legend()\n",
        "\n",
        "# plt.figure()\n",
        "\n",
        "axis[1,1].plot(epochs, loss, 'b', label='Training loss')\n",
        "axis[1,1].plot(epochs, val_loss, 'r', label='Validation loss')\n",
        "axis[1,1].set_title('Training and validation loss -  RNN')\n",
        "axis[1,1].legend()\n",
        "\n",
        "acc3,  val_acc3  = history3.history['accuracy'], history3.history['val_accuracy']\n",
        "loss3, val_loss3 = history3.history['loss'], history3.history['val_loss']\n",
        "epochs3 = range(len(acc3))\n",
        "axis[0,2].plot(epochs3, acc3, 'b', label='Training acc')\n",
        "axis[0,2].plot(epochs3, val_acc3, 'r', label='Validation acc')\n",
        "axis[0,2].set_title('Training and validation accuracy - LSTM(Bidirectional)')\n",
        "axis[0,2].legend()\n",
        "\n",
        "# plt.figure()\n",
        "\n",
        "axis[1,2].plot(epochs3, loss3, 'b', label='Training loss')\n",
        "axis[1,2].plot(epochs3, val_loss3, 'r', label='Validation loss')\n",
        "axis[1,2].set_title('Training and validation loss - LSTM(Bidirectional)')\n",
        "axis[1,2].legend()\n",
        "\n",
        "# plt.figure(figsize=(100,100))\n",
        "figure.tight_layout()\n",
        "plt.subplots_adjust(wspace=0.4,\n",
        "                    hspace=0.4)\n",
        "\n",
        "plt.show()\n"
      ],
      "metadata": {
        "execution": {
          "iopub.status.busy": "2023-04-19T03:29:16.014902Z",
          "iopub.execute_input": "2023-04-19T03:29:16.01526Z",
          "iopub.status.idle": "2023-04-19T03:29:16.831492Z",
          "shell.execute_reply.started": "2023-04-19T03:29:16.015223Z",
          "shell.execute_reply": "2023-04-19T03:29:16.830543Z"
        },
        "trusted": true,
        "id": "iRvss8pRTNq0"
      },
      "execution_count": null,
      "outputs": []
    },
    {
      "cell_type": "code",
      "source": [
        "from sklearn.metrics import classification_report,ConfusionMatrixDisplay , confusion_matrix\n",
        "\n",
        "# def ConfusionMatrix(y_pred, y_test):\n",
        "#     # Compute and plot the Confusion matrix\n",
        "#     cf_matrix = confusion_matrix(y_test, y_pred)\n",
        "\n",
        "\n",
        "\n",
        "#     sns.heatmap(cf_matrix, annot = labels, cmap = 'Blues',fmt = '',\n",
        "#                 xticklabels = categories, yticklabels = categories)\n",
        "\n",
        "#     plt.xlabel(\"Predicted values\", fontdict = {'size':14}, labelpad = 10)\n",
        "#     plt.ylabel(\"Actual values\"   , fontdict = {'size':14}, labelpad = 10)\n",
        "def get_labels(y_pred,y_test):\n",
        "    cf_matrix = confusion_matrix(y_test, y_pred)\n",
        "    categories  = ['Negative','Positive']\n",
        "    group_names = ['True Neg','False Pos', 'False Neg','True Pos']\n",
        "    group_percentages = ['{0:.2%}'.format(value) for value in cf_matrix.flatten() / np.sum(cf_matrix)]\n",
        "\n",
        "    labels = [f'{v1}\\n{v2}' for v1, v2 in zip(group_names,group_percentages)]\n",
        "    labels = np.asarray(labels).reshape(2,2)\n",
        "\n",
        "    return labels\n",
        "\n",
        "# Predicting on the Test dataset.\n",
        "y_pred = training_model.predict(X_test)\n",
        "y_pred2 = training_model2.predict(X_test)\n",
        "y_pred3 = training_model3.predict(X_test)\n",
        "\n",
        "# Converting prediction to reflect the sentiment predicted.\n",
        "y_pred = np.where(y_pred>=0.5, 1, 0)\n",
        "y_pred2 = np.where(y_pred2>=0.5, 1, 0)\n",
        "y_pred3 = np.where(y_pred3>=0.5, 1, 0)\n",
        "\n",
        "l1 = get_labels(y_pred,y_test)\n",
        "l2 = get_labels(y_pred2,y_test)\n",
        "l3 = get_labels(y_pred3,y_test)\n",
        "\n",
        "# Printing out the Evaluation metrics.\n",
        "fig, ax = plt.subplots(1,3,figsize=(15,8))\n",
        "ax[0].set_title(\"RNN\")\n",
        "ax[1].set_title(\"LSTM\")\n",
        "ax[2].set_title(\"LSTM Bidirectional\")\n",
        "\n",
        "ConfusionMatrixDisplay.from_predictions(y_test,y_pred,cmap=\"Blues\" ,ax = ax[0])\n",
        "ConfusionMatrixDisplay.from_predictions(y_test,y_pred2,cmap=\"Blues\",ax = ax[1])\n",
        "ConfusionMatrixDisplay.from_predictions(y_test,y_pred3,cmap=\"Blues\" ,ax = ax[2])\n",
        "\n",
        "plt.show()\n",
        "\n",
        "\n"
      ],
      "metadata": {
        "execution": {
          "iopub.status.busy": "2023-04-19T03:29:16.833008Z",
          "iopub.execute_input": "2023-04-19T03:29:16.833666Z",
          "iopub.status.idle": "2023-04-19T03:29:26.361756Z",
          "shell.execute_reply.started": "2023-04-19T03:29:16.833611Z",
          "shell.execute_reply": "2023-04-19T03:29:26.360686Z"
        },
        "trusted": true,
        "id": "lHtUm_gUTNq1"
      },
      "execution_count": null,
      "outputs": []
    },
    {
      "cell_type": "code",
      "source": [
        "# Print the evaluation metrics for the dataset.\n",
        "print(classification_report(y_test, y_pred))\n",
        "# Print the evaluation metrics for the dataset.\n",
        "print(classification_report(y_test, y_pred2))\n",
        "# Print the evaluation metrics for the dataset.\n",
        "print(classification_report(y_test, y_pred3))"
      ],
      "metadata": {
        "execution": {
          "iopub.status.busy": "2023-04-19T03:29:26.363123Z",
          "iopub.execute_input": "2023-04-19T03:29:26.364132Z",
          "iopub.status.idle": "2023-04-19T03:29:26.390236Z",
          "shell.execute_reply.started": "2023-04-19T03:29:26.364094Z",
          "shell.execute_reply": "2023-04-19T03:29:26.389072Z"
        },
        "trusted": true,
        "id": "LcLZmDkgTNq1"
      },
      "execution_count": null,
      "outputs": []
    },
    {
      "cell_type": "code",
      "source": [
        "statement = [\"worst day of my life\"]\n",
        "print(statement)\n",
        "for i in range(len(statement)):\n",
        "    listr = []\n",
        "    statement[i] = preprocess_reviews(statement[i])\n",
        "    for word in statement[i].split():\n",
        "        if word.lower() not in stop_words:\n",
        "            listr.append(word)\n",
        "    statement[i] = \" \".join(listr)\n",
        "print(statement)"
      ],
      "metadata": {
        "execution": {
          "iopub.status.busy": "2023-04-19T03:29:26.391801Z",
          "iopub.execute_input": "2023-04-19T03:29:26.392407Z",
          "iopub.status.idle": "2023-04-19T03:29:26.399494Z",
          "shell.execute_reply.started": "2023-04-19T03:29:26.392371Z",
          "shell.execute_reply": "2023-04-19T03:29:26.398353Z"
        },
        "trusted": true,
        "id": "SNbdzUyHTNq1"
      },
      "execution_count": null,
      "outputs": []
    },
    {
      "cell_type": "code",
      "source": [
        "statement = pad_sequences(tokenizer.texts_to_sequences(statement) , maxlen=input_length)\n",
        "statement.shape\n",
        "pred = training_model.predict(statement)\n",
        "pred = np.where(pred>=0.5, 1, 0)\n",
        "pred2 = training_model2.predict(statement)\n",
        "pred2 = np.where(pred>=0.5, 1, 0)\n",
        "pred3 = training_model3.predict(statement)\n",
        "pred3 = np.where(pred>=0.5, 1, 0)"
      ],
      "metadata": {
        "execution": {
          "iopub.status.busy": "2023-04-19T03:29:26.401122Z",
          "iopub.execute_input": "2023-04-19T03:29:26.401482Z",
          "iopub.status.idle": "2023-04-19T03:29:26.587691Z",
          "shell.execute_reply.started": "2023-04-19T03:29:26.401431Z",
          "shell.execute_reply": "2023-04-19T03:29:26.586709Z"
        },
        "trusted": true,
        "id": "GIDGaFe6TNq1"
      },
      "execution_count": null,
      "outputs": []
    },
    {
      "cell_type": "code",
      "source": [
        "print(\"RNN :\" , pred)\n",
        "print(\"LSTM :\" , pred2)\n",
        "print(\"LSTM Bidirectional :\" , pred3)"
      ],
      "metadata": {
        "execution": {
          "iopub.status.busy": "2023-04-19T03:29:26.588933Z",
          "iopub.execute_input": "2023-04-19T03:29:26.589265Z",
          "iopub.status.idle": "2023-04-19T03:29:26.59589Z",
          "shell.execute_reply.started": "2023-04-19T03:29:26.589232Z",
          "shell.execute_reply": "2023-04-19T03:29:26.59491Z"
        },
        "trusted": true,
        "id": "clViaj_zTNq1"
      },
      "execution_count": null,
      "outputs": []
    },
    {
      "cell_type": "code",
      "source": [],
      "metadata": {
        "id": "Y_Fd81_MTNq2"
      },
      "execution_count": null,
      "outputs": []
    },
    {
      "cell_type": "code",
      "source": [],
      "metadata": {
        "id": "Q13z3dVyTNq2"
      },
      "execution_count": null,
      "outputs": []
    }
  ]
}